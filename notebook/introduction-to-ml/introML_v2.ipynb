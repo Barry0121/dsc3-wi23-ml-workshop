{
 "cells": [
  {
   "attachments": {},
   "cell_type": "markdown",
   "metadata": {
    "id": "L7BLixb0ief1"
   },
   "source": [
    "# Welcome to the introduction to machine learning workshop!!!\n",
    "\n",
    "This is a Python notebook for reference. Feel free to set this up on Google Colab (https://colab.research.google.com/) or your local machine with your favorite IDEs, and follow along with the presentation! \n",
    "\n",
    "Once you have the dataset, run the cell below to read in the data and test out all the model demos. The markdown cells will explain what the codes are doing, but please ask questions if anything is unclear, or you run into issues. There are no stupid questions! "
   ]
  },
  {
   "attachments": {},
   "cell_type": "markdown",
   "metadata": {
    "id": "5sPuDFr8lFJk"
   },
   "source": [
    "## Categories of ML Tasks\n",
    "\n",
    "Machine Learning tasks can be generalized into three categories. \n",
    "\n",
    "| Supervised | Unsupervised | Reinforcement |\n",
    "| ---------- | ------------ | ------------- |\n",
    "| A model is trained given the input features, X, and their corresponding targets, Y | A model is trained given only the input features, X, without their corresponding targets | Train a model or an action policy of an agent based on feedback from the environment | \n",
    "| regressions tasks, labeled classification tasks | clustering, dimensionality reduction |  markov decision process, Q table learning |\n"
   ]
  },
  {
   "attachments": {},
   "cell_type": "markdown",
   "metadata": {},
   "source": [
    "In this workshop, we will look at both supervised and unsupervised tasks, including: \n",
    "* Stock Price Prediction \n",
    "* Image Classification\n",
    "* Anomaly Detection\n",
    "\n",
    "There are no reinforcement learning tasks in this workshop, but it will be covered in future workshops, stay tuned! 😁\n",
    "\n",
    "<b>At the end of this workshop, we will host a mini-competition using another image classification dataset. There will be prizes for top contenders!</b>"
   ]
  },
  {
   "attachments": {},
   "cell_type": "markdown",
   "metadata": {
    "id": "R0DQvURklewN"
   },
   "source": [
    "## Steps to solve a ML task\n",
    "\n",
    "<h4>We follow the guideline of the \"Machine Learning Life Cycle\" when building our model.</h4>\n",
    "\n",
    "<!-- ![ML-Lifecycle](ML-lifecycle.drawio.png){ width=\"800\" height=\"600\" style=\"display: block; margin: 0 auto\" } -->\n",
    "<p align=\"center\">\n",
    "    <img src=\"ML-lifecycle.drawio.png\">\n",
    "<p>\n",
    "\n",
    "In reality, designing and implementing data pipeline and making model production-ready is a lot more time consuming than model building; we will cover these aspect of ML in other workshops in the future. \n",
    "\n",
    "However, in this workshop, we already collected the data for you, and there will not be any model deployment required. We will focus on the `training` and `evaluation` of a model. \n"
   ]
  },
  {
   "attachments": {},
   "cell_type": "markdown",
   "metadata": {},
   "source": [
    "## Stock Price Prediction\n",
    "\n",
    "Algorithmic trading is an extremely popular field. Many of you probably heard of terms such as 'quantitative trading' or 'quantitative research' while looking for your next internship/job. `Quantitative Researchers/Traders` (quants for short) differ from traditional traders because they relies on algorithms, which is constructed based off of models, to achieve trading objectives, such as high frequency trading and arbitrage trading. \n",
    "<br>\n",
    "\n",
    "To create effective trading strategies, a trader must leverage as much predictive power as possible. For the first example, we are attempting to model a stock's trend with ML, and see if this model is effective in predicting the future price. \n",
    "<br>\n",
    "\n",
    "Think about what type of ML task would this be? \n",
    "* Supervised or Unsupervised? \n",
    "* Regression or Classification? "
   ]
  },
  {
   "attachments": {},
   "cell_type": "markdown",
   "metadata": {},
   "source": [
    "## Image Classification \n",
    "\n",
    "Image classification is usually the first thing people think of when taking about computer vision, and we can see image classification model at work on a daily basis. For the second example, we will construct an effective image classification model to identify hand written digits from their picture. "
   ]
  },
  {
   "attachments": {},
   "cell_type": "markdown",
   "metadata": {},
   "source": [
    "## Anomaly Detection\n",
    "\n",
    "Anomaly detection is a category of tasks. "
   ]
  }
 ],
 "metadata": {
  "kernelspec": {
   "display_name": "base",
   "language": "python",
   "name": "python3"
  },
  "language_info": {
   "name": "python",
   "version": "3.9.15 | packaged by conda-forge | (main, Nov 22 2022, 08:52:10) \n[Clang 14.0.6 ]"
  },
  "orig_nbformat": 4,
  "vscode": {
   "interpreter": {
    "hash": "59f3f1ec6adb8c9a0541ad4583ff3065bf0624b00eb4cfb42e043f8387da8a8a"
   }
  }
 },
 "nbformat": 4,
 "nbformat_minor": 2
}
