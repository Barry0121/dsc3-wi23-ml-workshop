{
 "cells": [
  {
   "attachments": {},
   "cell_type": "markdown",
   "metadata": {
    "id": "L7BLixb0ief1"
   },
   "source": [
    "# Welcome to the introduction to machine learning workshop!!!\n",
    "\n",
    "This is a Python notebook for reference. Feel free to set this up on Google Colab (https://colab.research.google.com/) or your local machine with your favorite IDEs, and follow along with the presentation! \n",
    "\n",
    "Once you have the dataset, run the cell below to read in the data and test out all the model demos. The markdown cells will explain what the codes are doing, but please ask questions if anything is unclear, or you run into issues. There are no stupid questions! "
   ]
  },
  {
   "attachments": {},
   "cell_type": "markdown",
   "metadata": {
    "id": "5sPuDFr8lFJk"
   },
   "source": [
    "## Categories of ML Tasks\n",
    "\n",
    "Machine Learning tasks can be generalized into three categories: \n",
    "1. Supervised Learning Tasks\n",
    "    - A model is trained given the input features, X, and their corresponding targets, Y. \n",
    "    - EX: regressions tasks, labeled classification tasks\n",
    "2. Unsupervised Learning Tasks.\n",
    "    - A model is trained given only the input features, X, without their corresponding targets. \n",
    "    - EX: clustering, dimensionality reduction. \n",
    "3. Reinforcement Learning Tasks \n",
    "    - Train a model or an action policy of an agent based on feedback from the environment. \n",
    "    - EX: markov decision process, Q table learning.\n",
    "    - Reinforcement Learning will be covered in future workshops, stay tuned!\n",
    "\n",
    "In this workshop, we will look at both supervised and unsupervised tasks, including: \n",
    "* regression: \n",
    "    - Stock Price Prediction \n",
    "* classification  \n",
    "    - Image Classification\n",
    "* clustering  \n",
    "    - Anomaly Detection\n",
    "\n",
    "At the end of this workshop, we will host a mini-competition using another image classification dataset. There will be prizes for top contenders!"
   ]
  },
  {
   "attachments": {},
   "cell_type": "markdown",
   "metadata": {
    "id": "R0DQvURklewN"
   },
   "source": [
    "## Steps to solve a ML task\n",
    "\n",
    "<h4>We follow the guideline of the `Machine Learning Life Cycle` when building our model.</h4>\n",
    "\n",
    "<!-- ![ML-Lifecycle](ML-lifecycle.drawio.png){ width=\"800\" height=\"600\" style=\"display: block; margin: 0 auto\" } -->\n",
    "<p align=\"center\">\n",
    "    <img src=\"ML-lifecycle.drawio.png\">\n",
    "<p>\n",
    "\n",
    "In this workshop, we already collected the data for you, and there will not be any model deployment required. We will focus on model training and evaluation. \n",
    "* However, in reality, designing and implementing data pipeline and making model production-ready is a lot more time consuming than model building; we will cover these aspect of ML in other workshops in the future. "
   ]
  },
  {
   "attachments": {},
   "cell_type": "markdown",
   "metadata": {},
   "source": [
    "## Stock Price Prediction"
   ]
  }
 ],
 "metadata": {
  "kernelspec": {
   "display_name": "base",
   "language": "python",
   "name": "python3"
  },
  "language_info": {
   "name": "python",
   "version": "3.9.15 | packaged by conda-forge | (main, Nov 22 2022, 08:52:10) \n[Clang 14.0.6 ]"
  },
  "orig_nbformat": 4,
  "vscode": {
   "interpreter": {
    "hash": "59f3f1ec6adb8c9a0541ad4583ff3065bf0624b00eb4cfb42e043f8387da8a8a"
   }
  }
 },
 "nbformat": 4,
 "nbformat_minor": 2
}
