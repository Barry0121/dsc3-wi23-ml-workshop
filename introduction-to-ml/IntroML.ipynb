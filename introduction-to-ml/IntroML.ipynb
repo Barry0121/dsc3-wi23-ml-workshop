{
  "cells": [
    {
      "attachments": {},
      "cell_type": "markdown",
      "metadata": {
        "id": "L7BLixb0ief1"
      },
      "source": [
        "# Welcome to the introduction to machine learning workshop!!!\n",
        "\n",
        "This is a Python notebook for reference. Feel free to set this up on Google Colab (https://colab.research.google.com/) or your local machine with your favorite IDEs, and follow along with the presentation! \n",
        "\n",
        "Once you have the dataset, run the cell below to read in the data and test out all the model demos. The markdown cells will explain what the codes are doing, but please ask questions if anything is unclear, or you run into issues. There are no stupid questions! "
      ]
    },
    {
      "cell_type": "markdown",
      "metadata": {
        "id": "5sPuDFr8lFJk"
      },
      "source": [
        "## Categories of ML Tasks\n",
        "\n",
        "Machine Learning tasks can be generalized into three categories: \n",
        "1. Supervised Learning Tasks\n",
        "    - A model is trained given the input features, X, and their corresponding targets, Y. \n",
        "    - EX: regressions tasks, labeled classification tasks\n",
        "2. Unsupervised Learning Tasks.\n",
        "    - A model is trained given only the input features, X, without their corresponding targets. \n",
        "    - EX: clustering, dimensionality reduction. \n",
        "3. Reinforcement Learning Tasks \n",
        "    - Train a model or an action policy of an agent based on feedback from the environment. \n",
        "    - EX: markov descision process, Q table learning.\n",
        "\n",
        "In this workshop, we will look at both supervised and unsupervised tasks, including: \n",
        "* regression \n",
        "    - linear regression \n",
        "    - lasso regression \n",
        "    - support vector machine \n",
        "* classificaiton \n",
        "    - logistic regression \n",
        "    - decision tree \n",
        "    - random forest tree \n",
        "* clustering  \n",
        "    - kmeans clustering\n",
        "    - density-based spatial clustering of application with noise (DBSCAN)"
      ]
    },
    {
      "attachments": {},
      "cell_type": "markdown",
      "metadata": {
        "id": "R0DQvURklewN"
      },
      "source": [
        "## Steps to solve a ML task\n",
        "\n",
        "<h4>We follow the guideline of the `Machine Learning Life Cycle` when building our model.</h4>\n",
        "\n",
        "<!-- ![ML-Lifecycle](ML-lifecycle.drawio.png){ width=\"800\" height=\"600\" style=\"display: block; margin: 0 auto\" } -->\n",
        "<p align=\"center\">\n",
        "    <img src=\"ML-lifecycle.drawio.png\">\n",
        "<p>\n",
        "\n",
        "In this workshop, we already collected the data for you, and there will not be any model deployment required. We will focus on model training and evaluation. \n",
        "* However, in reality, designing and implementing data pipeline and making model production-ready is a lot more time consuming than model building; we will cover these aspect of ML in other workshops in the future. "
      ]
    },
    {
      "attachments": {},
      "cell_type": "markdown",
      "metadata": {},
      "source": [
        "## Tools\n",
        "* `Pandas`: Read in data and do some basic transformation. \n",
        "* `matplotlib`: Visualize model performance. \n",
        "* `Scikit-learn (Sklearn)`: A library of ML models and common utility functions. \n",
        "* `time`: Native package from Python, it helps us calculate the runtime. \n",
        "\n",
        "Here, we use `!pip install <package_name>` to install packages inside of a Jupyter Notebook runtime. Alternatively, you can run `pip install ...` (or `conda install ...` if you have Anaconda available) in your terminal to install these packages in a virtual environment; this way you don't have to run this command every time you launch a new notebook instance. "
      ]
    },
    {
      "cell_type": "code",
      "execution_count": 7,
      "metadata": {
        "id": "0iISab72iT88"
      },
      "outputs": [],
      "source": [
        "# Package download and import\n",
        "# !pip install scikit-learn\n",
        "# !pip install seaborn \n",
        "\n",
        "from sklearn.model_selection import train_test_split\n",
        "import pandas as pd\n",
        "import time "
      ]
    },
    {
      "cell_type": "code",
      "execution_count": 11,
      "metadata": {
        "id": "p8wNrFqZkbbe"
      },
      "outputs": [],
      "source": [
        "# TODO: replace with path to your downloaded dataset  \n",
        "mobile_price_filepath = './mobile_price_classification_train.csv'\n",
        "\n",
        "# load the data into memory\n",
        "mobile_price_train, mobile_price_test = None, None\n",
        "mobile_price_df = pd.read_csv(mobile_price_filepath)\n",
        "\n",
        "# Feel free to playaround with this function, but if you change the test_size and/or random_state, you will see different results \n",
        "mobile_price_train, mobile_price_test = train_test_split(mobile_price_df, test_size=0.4, random_state=2023, shuffle=True) "
      ]
    },
    {
      "attachments": {},
      "cell_type": "markdown",
      "metadata": {},
      "source": [
        "##### Before we being training models, we have to understand what data we are working with. \n",
        "\n",
        "The `mobile_price` dataset contains mock specifications of 2000 smart phones. In the scripts above, we have split the data into train and test sets, where there are 1200 instance in train set and 600 in test set. <br>\n",
        "\n",
        "There are a total of 20 feature columns and 1 target columns, and here is `metadata` of the dataset: \n",
        "\n",
        "| Feature | Description |\n",
        "| :-------| :-----------|\n",
        "| `battery_power` | int, total energy a battery can store in mAh|\n",
        "| `blue`| bool, has bluetooth or not |\n",
        "| `clock_speed`| float, speed at which microprocessor executes instructions|\n",
        "| `dual_sim`| bool, has dual sim support or not|\n",
        "| `fc`| int, front Camera mega pixels|\n",
        "| `four_g`| bool, has 4G or not|\n",
        "| `int_memory`| int, internal Memory in Gigabytes|\n",
        "| `m_dep`| float, mobile Depth in cm|\n",
        "| `mobile_wt`| int, weight of mobile phone|\n",
        "| `n_cores`| int, number of cores of processor|\n",
        "| `pc`| int, primary Camera mega pixels|\n",
        "| `px_height`| int, pixel Resolution Height|\n",
        "| `px_width`| int, pixel Resolution Width|\n",
        "| `ram`| int, random Access Memory in Megabytes|\n",
        "| `sc_h`| int, screen Height of mobile in cm|\n",
        "| `sc_w`| int, screen Width of mobile in cm|\n",
        "| `talk_time`| int, longest time that battery will last by a call|\n",
        "| `three_g`| bool, has 3G or not|\n",
        "| `touch_screen`| bool, has touch screen or not|\n",
        "| `wifi`| bool, has wifi or not|\n",
        "| `price_range` | int; categories of prices: {0: cheap, 1: medium, 2: expensive, 3: very expensive}|\n"
      ]
    },
    {
      "cell_type": "code",
      "execution_count": 21,
      "metadata": {
        "id": "aWDvhTknkgzT"
      },
      "outputs": [
        {
          "data": {
            "text/plain": [
              "battery_power    1135.0\n",
              "blue                1.0\n",
              "clock_speed         2.8\n",
              "dual_sim            1.0\n",
              "fc                  9.0\n",
              "four_g              0.0\n",
              "int_memory         43.0\n",
              "m_dep               0.4\n",
              "mobile_wt         158.0\n",
              "n_cores             1.0\n",
              "pc                 11.0\n",
              "px_height         690.0\n",
              "px_width         1589.0\n",
              "ram              3204.0\n",
              "sc_h               18.0\n",
              "sc_w               13.0\n",
              "talk_time           6.0\n",
              "three_g             1.0\n",
              "touch_screen        0.0\n",
              "wifi                0.0\n",
              "price_range         3.0\n",
              "Name: 729, dtype: float64"
            ]
          },
          "execution_count": 21,
          "metadata": {},
          "output_type": "execute_result"
        }
      ],
      "source": [
        "# check out the first entry\n",
        "mobile_price_train.iloc[0]"
      ]
    },
    {
      "attachments": {},
      "cell_type": "markdown",
      "metadata": {
        "id": "qJDAWjm1k9kL"
      },
      "source": [
        "## Models\n",
        "\n",
        "After we have created our train and test sets, we can start working on building different models!"
      ]
    },
    {
      "attachments": {},
      "cell_type": "markdown",
      "metadata": {
        "id": "WGgLxRkfl2gq"
      },
      "source": [
        "### Supervised Regression \n",
        "\n",
        "<b>Goal</b>: use the given features, create a model to predict a mobile phone's battery power. \n",
        "\n",
        "* We are \n",
        "\n",
        "For supervised regression, we will be looking at three models: \n",
        "1. Linear Regression \n",
        "2. Linear Regression with L1 Regularization (i.e. Lasso Regression)\n",
        "3. Support Vector Machine (SVM) for Regression"
      ]
    },
    {
      "cell_type": "code",
      "execution_count": null,
      "metadata": {
        "id": "3JkNIrwekmcG"
      },
      "outputs": [],
      "source": [
        "# Task 1: multivariate linear regression"
      ]
    },
    {
      "cell_type": "code",
      "execution_count": null,
      "metadata": {
        "id": "e2dqlxKNlq5C"
      },
      "outputs": [],
      "source": [
        "# Task 2: Lasso regression (linear regression with regularization)"
      ]
    },
    {
      "cell_type": "code",
      "execution_count": null,
      "metadata": {
        "id": "JeEFJgtrl4uJ"
      },
      "outputs": [],
      "source": [
        "# Task 3: Support Vector Machine "
      ]
    },
    {
      "attachments": {},
      "cell_type": "markdown",
      "metadata": {
        "id": "JEkwD_a2l6_3"
      },
      "source": [
        "### Supervised Classificaiton\n",
        "\n",
        "For supervised classification, we will be looking at three models: \n",
        "1. Logistic Regression\n",
        "2. Decision Tree \n",
        "3. Support Vector Machine (SVM) for Classification"
      ]
    },
    {
      "cell_type": "code",
      "execution_count": null,
      "metadata": {
        "id": "5I3LaqbPlhFq"
      },
      "outputs": [],
      "source": [
        "# Task 4: logistic regression (classification)"
      ]
    },
    {
      "cell_type": "code",
      "execution_count": null,
      "metadata": {
        "id": "pNAa7oeBl1A-"
      },
      "outputs": [],
      "source": [
        "# Task 5: Decision Tree (Random Forest)"
      ]
    },
    {
      "cell_type": "code",
      "execution_count": null,
      "metadata": {},
      "outputs": [],
      "source": [
        "# Task 6: Support Vector Machine "
      ]
    },
    {
      "attachments": {},
      "cell_type": "markdown",
      "metadata": {
        "id": "pZrf9oZnmOLi"
      },
      "source": [
        "### Unsupervised Clustering\n",
        "\n",
        "For unsupervised clustering, we will be looking at two models: \n",
        "1. Kmeans \n",
        "2. Density-Based Spatial Clustering of Applications with Noise (DBSCAN)"
      ]
    },
    {
      "cell_type": "code",
      "execution_count": null,
      "metadata": {
        "id": "SeBst50JmPjU"
      },
      "outputs": [],
      "source": [
        "# Task 7: Kmeans Clustering "
      ]
    },
    {
      "cell_type": "code",
      "execution_count": null,
      "metadata": {},
      "outputs": [],
      "source": [
        "# Task 8: DBSCAN "
      ]
    },
    {
      "cell_type": "markdown",
      "metadata": {
        "id": "vkrTBUXEmbGF"
      },
      "source": [
        "## Quick Overview of Other Tasks and Use Cases "
      ]
    }
  ],
  "metadata": {
    "colab": {
      "provenance": []
    },
    "kernelspec": {
      "display_name": "base",
      "language": "python",
      "name": "python3"
    },
    "language_info": {
      "codemirror_mode": {
        "name": "ipython",
        "version": 3
      },
      "file_extension": ".py",
      "mimetype": "text/x-python",
      "name": "python",
      "nbconvert_exporter": "python",
      "pygments_lexer": "ipython3",
      "version": "3.9.15"
    },
    "vscode": {
      "interpreter": {
        "hash": "59f3f1ec6adb8c9a0541ad4583ff3065bf0624b00eb4cfb42e043f8387da8a8a"
      }
    }
  },
  "nbformat": 4,
  "nbformat_minor": 0
}
